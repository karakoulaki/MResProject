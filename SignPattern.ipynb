{
 "cells": [
  {
   "cell_type": "code",
   "execution_count": 1,
   "id": "da6e7640-e269-4ac0-b0bf-f5548f53ff1f",
   "metadata": {},
   "outputs": [],
   "source": [
    "import pandas as pd\n",
    "import matplotlib.pyplot as plt\n",
    "import numpy as np"
   ]
  },
  {
   "cell_type": "code",
   "execution_count": 2,
   "id": "a46b134e-9531-4791-af72-902532778065",
   "metadata": {},
   "outputs": [],
   "source": [
    "file_path = 'alltracks.pickle'\n",
    "df = pd.read_pickle(file_path)\n",
    "df= pd.DataFrame(df)"
   ]
  },
  {
   "cell_type": "code",
   "execution_count": 3,
   "id": "c9a69aed-1a33-4b49-a363-ef45fc95645c",
   "metadata": {},
   "outputs": [],
   "source": [
    "file_path2 = 'alltracks2.pickle'\n",
    "df2 = pd.read_pickle(file_path2)\n",
    "df2 = pd.DataFrame(df2)"
   ]
  },
  {
   "cell_type": "code",
   "execution_count": 4,
   "id": "3d4913db-1f8c-4162-8e79-312ca755364d",
   "metadata": {},
   "outputs": [],
   "source": [
    "df_pos=df['Curvature'][df['Charge']==1]\n",
    "df_neg=df['Curvature'][df['Charge']==-1]"
   ]
  },
  {
   "cell_type": "code",
   "execution_count": 5,
   "id": "acde0a7a-6716-405b-9333-4f91048633b4",
   "metadata": {},
   "outputs": [],
   "source": [
    "df_pos2=df2['Curvature'][df2['Charge']==1]\n",
    "df_neg2=df2['Curvature'][df2['Charge']==-1]"
   ]
  },
  {
   "cell_type": "code",
   "execution_count": 6,
   "id": "d4df5d59-7ec4-4772-9b4d-b7f5b00125a1",
   "metadata": {},
   "outputs": [],
   "source": [
    "def normal_dist(mu,sigma,data):\n",
    "    \"\"\"\n",
    "    Function that takes arguments mu, sigma and the data. Returns normal distribution.\n",
    "    \"\"\"\n",
    "    dist=1/(sigma*np.sqrt(2*np.pi))*np.exp(-0.5*((data-mu)/sigma)**2)\n",
    "    return dist"
   ]
  },
  {
   "cell_type": "code",
   "execution_count": 19,
   "id": "537ff7af-ca94-4d10-b0e1-039bf87865b3",
   "metadata": {},
   "outputs": [
    {
     "data": {
      "image/png": "[encoded data removed]",
      "text/plain": [
       "<Figure size 640x480 with 1 Axes>"
      ]
     },
     "metadata": {},
     "output_type": "display_data"
    }
   ],
   "source": [
    "plt.hist(df_neg,bins=10,density=True,color='b')\n",
    "plt.hist(df_pos,bins=10,density=True,color='b')\n",
    "#plt.plot(df_neg,normal_dist(-17,17,df_neg),'r.')\n",
    "#plt.plot(df_pos,normal_dist(17,17,df_pos),'g.')\n",
    "plt.hist(df_neg2,bins=10,density=True,color='k')\n",
    "plt.hist(df_pos2,bins=10,density=True,color='k')\n",
    "#plt.plot(df_neg2,normal_dist(-17,17,df_neg2),'k.')\n",
    "#plt.plot(df_pos2,normal_dist(17,17,df_pos2),'b.')\n",
    "plt.show()\n",
    "#plt.show()"
   ]
  },
  {
   "cell_type": "code",
   "execution_count": null,
   "id": "b52245a0-7a21-465e-bbc9-6ebcb8fcaf89",
   "metadata": {},
   "outputs": [],
   "source": []
  }
 ],
 "metadata": {
  "kernelspec": {
   "display_name": "Python 3 (ipykernel)",
   "language": "python",
   "name": "python3"
  },
  "language_info": {
   "codemirror_mode": {
    "name": "ipython",
    "version": 3
   },
   "file_extension": ".py",
   "mimetype": "text/x-python",
   "name": "python",
   "nbconvert_exporter": "python",
   "pygments_lexer": "ipython3",
   "version": "3.9.18"
  }
 },
 "nbformat": 4,
 "nbformat_minor": 5
}
